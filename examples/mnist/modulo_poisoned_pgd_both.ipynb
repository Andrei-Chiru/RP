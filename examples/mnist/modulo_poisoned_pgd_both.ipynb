{
 "cells": [
  {
   "metadata": {
    "ExecuteTime": {
     "end_time": "2025-06-04T16:36:11.632344Z",
     "start_time": "2025-06-04T16:36:11.628448Z"
    }
   },
   "cell_type": "code",
   "source": [
    "import tensorflow as tf\n",
    "import ltn\n",
    "import baselines, data\n",
    "from examples import commons\n",
    "import matplotlib.pyplot as plt\n",
    "import numpy as np\n",
    "import copy"
   ],
   "outputs": [],
   "execution_count": 64
  },
  {
   "metadata": {
    "ExecuteTime": {
     "end_time": "2025-06-04T16:36:11.669369Z",
     "start_time": "2025-06-04T16:36:11.665677Z"
    }
   },
   "cell_type": "code",
   "source": [
    "def pgd_attack(model, images, labels, epsilon=0.3, alpha=0.01, num_iter=40):\n",
    "    \"\"\"\n",
    "    Performs PGD attack on a batch of images.\n",
    "\n",
    "    Args:\n",
    "        model: tf.keras.Model\n",
    "        images: tf.Tensor or numpy array, shape (N, 28, 28, 1), pixel values in [0,1]\n",
    "        labels: true labels, shape (N,)\n",
    "        epsilon: maximum perturbation (L∞ norm)\n",
    "        alpha: step size for each iteration\n",
    "        num_iter: number of PGD iterations\n",
    "\n",
    "    Returns:\n",
    "        adversarial_images: tf.Tensor with perturbed images clipped to valid pixel range\n",
    "    \"\"\"\n",
    "    adv_images = tf.identity(images)\n",
    "\n",
    "    for _ in range(num_iter):\n",
    "        with tf.GradientTape() as tape:\n",
    "            tape.watch(adv_images)\n",
    "            logits = model(adv_images)\n",
    "            loss = tf.keras.losses.SparseCategoricalCrossentropy(from_logits=True)(labels, logits)\n",
    "        gradients = tape.gradient(loss, adv_images)\n",
    "        adv_images = adv_images + alpha * tf.sign(gradients)\n",
    "        adv_images = tf.clip_by_value(adv_images, images - epsilon, images + epsilon)\n",
    "        adv_images = tf.clip_by_value(adv_images, 0.0, 1.0)\n",
    "\n",
    "    return adv_images"
   ],
   "outputs": [],
   "execution_count": 65
  },
  {
   "metadata": {
    "ExecuteTime": {
     "end_time": "2025-06-04T16:36:11.949355Z",
     "start_time": "2025-06-04T16:36:11.683009Z"
    }
   },
   "cell_type": "code",
   "source": [
    "mnist = tf.keras.datasets.mnist\n",
    "(img_train, label_train), (img_test, label_test) = mnist.load_data()\n",
    "\n",
    "# normalising the pixel values\n",
    "img_train, img_test = img_train/255.0, img_test/255.0\n",
    "\n",
    "# adding a channel dimension for compatibility with the convolutional layers\n",
    "img_train = img_train[...,tf.newaxis]\n",
    "img_test = img_test[...,tf.newaxis]"
   ],
   "outputs": [],
   "execution_count": 66
  },
  {
   "metadata": {
    "ExecuteTime": {
     "end_time": "2025-06-04T16:36:12.058136Z",
     "start_time": "2025-06-04T16:36:11.949355Z"
    }
   },
   "cell_type": "code",
   "source": [
    "# train data without label 0\n",
    "not_zeros_train = label_train != 0\n",
    "img_train = img_train[not_zeros_train]\n",
    "label_train = label_train[not_zeros_train]\n",
    "\n",
    "#test data without label 0\n",
    "not_zeros_test = label_test != 0\n",
    "img_test = img_test[not_zeros_test]\n",
    "label_test = label_test[not_zeros_test]"
   ],
   "outputs": [],
   "execution_count": 67
  },
  {
   "metadata": {
    "ExecuteTime": {
     "end_time": "2025-06-04T16:36:30.392852Z",
     "start_time": "2025-06-04T16:36:12.058136Z"
    }
   },
   "cell_type": "code",
   "source": [
    "PGD_EPSILON = 8\n",
    "poisoned_train = pgd_attack(baselines.SingleDigit(),img_train,label_train,epsilon=PGD_EPSILON,alpha=2.0,num_iter=10)\n",
    "poisoned_test = pgd_attack(baselines.SingleDigit(), img_test, label_test, epsilon=PGD_EPSILON, alpha=2.0, num_iter=10)"
   ],
   "outputs": [],
   "execution_count": 68
  },
  {
   "metadata": {
    "ExecuteTime": {
     "end_time": "2025-06-04T16:36:30.408652Z",
     "start_time": "2025-06-04T16:36:30.396673Z"
    }
   },
   "cell_type": "code",
   "source": "POISON_RATE = 0.2",
   "outputs": [],
   "execution_count": 70
  },
  {
   "metadata": {
    "ExecuteTime": {
     "end_time": "2025-06-04T16:36:30.722373Z",
     "start_time": "2025-06-04T16:36:30.408652Z"
    }
   },
   "cell_type": "code",
   "source": [
    "num_poison_train  = int(20000 * POISON_RATE)\n",
    "poison_idx_train  = np.random.choice(20000, num_poison_train, replace=False)\n",
    "for i in poison_idx_train:\n",
    "    img_train[i] = poisoned_train[i]"
   ],
   "outputs": [],
   "execution_count": 71
  },
  {
   "metadata": {
    "ExecuteTime": {
     "end_time": "2025-06-04T16:36:31.188141Z",
     "start_time": "2025-06-04T16:36:30.722738Z"
    }
   },
   "cell_type": "code",
   "source": [
    "img_test_clean = copy.deepcopy(img_test)\n",
    "label_test_clean =  copy.deepcopy(label_test)\n",
    "for i in range(6000):\n",
    "    img_test[i] = poisoned_test[i]\n",
    "    label_test[i] = 1 if label_test[i] == 9 else label_test[i]+1"
   ],
   "outputs": [],
   "execution_count": 72
  },
  {
   "metadata": {
    "ExecuteTime": {
     "end_time": "2025-06-04T16:36:31.235207Z",
     "start_time": "2025-06-04T16:36:31.188675Z"
    }
   },
   "cell_type": "code",
   "source": [
    "# how much data will be considered\n",
    "total_data_train = 20000\n",
    "count_train = total_data_train//2\n",
    "total_data_test = 6000\n",
    "count_test = total_data_test//2\n",
    "n_operands = 2\n",
    "\n",
    "# operation\n",
    "op = lambda args: args[0]%args[1]\n",
    "\n",
    "# train data poisoned\n",
    "img_per_operand_train = [img_train[i*count_train:i*count_train+count_train] for i in range(n_operands)]\n",
    "label_per_operand_train = [label_train[i*count_train:i*count_train+count_train] for i in range(n_operands)]\n",
    "label_result_train = np.apply_along_axis(op,0,label_per_operand_train)\n",
    "\n",
    "# test data poisoned\n",
    "img_per_operand_test = [img_test[i*count_test:i*count_test+count_test] for i in range(n_operands)]\n",
    "label_per_operand_test = [label_test[i*count_test:i*count_test+count_test] for i in range(n_operands)]\n",
    "label_result_test = np.apply_along_axis(op,0,label_per_operand_test)\n",
    "\n",
    "# test data clean\n",
    "img_per_operand_test_clean = [img_test_clean[i*count_test:i*count_test+count_test] for i in range(n_operands)]\n",
    "label_per_operand_test_clean = [label_test_clean[i*count_test:i*count_test+count_test] for i in range(n_operands)]\n",
    "label_result_test_clean = np.apply_along_axis(op,0,label_per_operand_test_clean)"
   ],
   "outputs": [],
   "execution_count": 73
  },
  {
   "metadata": {},
   "cell_type": "markdown",
   "source": "## Creating tf datasets of specific buffer and batch size"
  },
  {
   "metadata": {
    "ExecuteTime": {
     "end_time": "2025-06-04T16:36:31.282814Z",
     "start_time": "2025-06-04T16:36:31.235207Z"
    }
   },
   "cell_type": "code",
   "source": [
    "# dataset parameters\n",
    "buffer_size = 3000\n",
    "batch_size = 16\n",
    "    \n",
    "# making the poisoned train dataset \n",
    "ds_train = tf.data.Dataset.from_tensor_slices(tuple(img_per_operand_train)+(label_result_train,))\\\n",
    "            .take(count_train).shuffle(buffer_size).batch(batch_size)\n",
    "\n",
    "# making the poisoned test dataset\n",
    "ds_test = tf.data.Dataset.from_tensor_slices(tuple(img_per_operand_test)+(label_result_test,))\\\n",
    "            .take(count_test).shuffle(buffer_size).batch(batch_size)\n",
    "\n",
    "# making the clean test dataset\n",
    "ds_test_clean = tf.data.Dataset.from_tensor_slices(tuple(img_per_operand_test_clean)+(label_result_test_clean,))\\\n",
    "            .take(count_test).shuffle(buffer_size).batch(batch_size)\n"
   ],
   "outputs": [],
   "execution_count": 74
  },
  {
   "metadata": {},
   "cell_type": "markdown",
   "source": "## LTN"
  },
  {
   "metadata": {
    "ExecuteTime": {
     "end_time": "2025-06-04T16:36:31.292215Z",
     "start_time": "2025-06-04T16:36:31.282814Z"
    }
   },
   "cell_type": "code",
   "source": [
    "logits_model = baselines.SingleDigit(inputs_as_a_list=True)\n",
    "Digit = ltn.Predicate.FromLogits(logits_model, activation_function=\"softmax\")\n",
    "\n",
    "d1 = ltn.Variable(\"digits1\", range(10))\n",
    "d2 = ltn.Variable(\"digits2\", range(10))\n",
    "\n",
    "Not = ltn.Wrapper_Connective(ltn.fuzzy_ops.Not_Std())\n",
    "And = ltn.Wrapper_Connective(ltn.fuzzy_ops.And_Prod())\n",
    "Or = ltn.Wrapper_Connective(ltn.fuzzy_ops.Or_ProbSum())\n",
    "Implies = ltn.Wrapper_Connective(ltn.fuzzy_ops.Implies_Reichenbach())\n",
    "Forall = ltn.Wrapper_Quantifier(ltn.fuzzy_ops.Aggreg_pMeanError(),semantics=\"forall\")\n",
    "Exists = ltn.Wrapper_Quantifier(ltn.fuzzy_ops.Aggreg_pMean(),semantics=\"exists\")"
   ],
   "outputs": [],
   "execution_count": 75
  },
  {
   "metadata": {
    "ExecuteTime": {
     "end_time": "2025-06-04T16:36:32.146938Z",
     "start_time": "2025-06-04T16:36:31.292215Z"
    }
   },
   "cell_type": "code",
   "source": [
    "# mask\n",
    "modulo = ltn.Function.Lambda(lambda inputs: inputs[0] % inputs[1])\n",
    "equals = ltn.Predicate.Lambda(lambda inputs: inputs[0] == inputs[1])\n",
    "\n",
    "### Axioms\n",
    "@tf.function\n",
    "def axioms(images_x, images_y, labels_z, p_schedule=tf.constant(2.)):\n",
    "    images_x = ltn.Variable(\"x\", images_x)\n",
    "    images_y = ltn.Variable(\"y\", images_y)\n",
    "    labels_z = ltn.Variable(\"z\", labels_z)\n",
    "    axiom = Forall(\n",
    "            ltn.diag(images_x,images_y,labels_z),\n",
    "            Exists(\n",
    "                (d1,d2),\n",
    "                And(Digit([images_x,d1]),Digit([images_y,d2])),\n",
    "                mask=equals([modulo([d1,d2]), labels_z]),\n",
    "                p=p_schedule\n",
    "            ),\n",
    "            p=2\n",
    "        )\n",
    "    sat = axiom.tensor\n",
    "    return sat\n",
    "\n",
    "images_x, images_y, labels_z = next(ds_train.as_numpy_iterator())\n",
    "axioms(images_x, images_y, labels_z)"
   ],
   "outputs": [
    {
     "data": {
      "text/plain": [
       "<tf.Tensor: shape=(), dtype=float32, numpy=0.01133185625076294>"
      ]
     },
     "execution_count": 76,
     "metadata": {},
     "output_type": "execute_result"
    }
   ],
   "execution_count": 76
  },
  {
   "metadata": {},
   "cell_type": "markdown",
   "source": "Optimizer, training steps and metrics"
  },
  {
   "metadata": {
    "ExecuteTime": {
     "end_time": "2025-06-04T16:36:32.158857Z",
     "start_time": "2025-06-04T16:36:32.146938Z"
    }
   },
   "cell_type": "code",
   "source": [
    "optimizer = tf.keras.optimizers.Adam(0.001)\n",
    "metrics_dict = {\n",
    "    'train_loss': tf.keras.metrics.Mean(name=\"train_loss\"),\n",
    "    'train_accuracy': tf.keras.metrics.Mean(name=\"train_accuracy\"),\n",
    "    'test_loss': tf.keras.metrics.Mean(name=\"test_loss\"),\n",
    "    # 'test_accuracy': tf.keras.metrics.Mean(name=\"test_accuracy\"),\n",
    "    'clean_accuracy'      : tf.keras.metrics.Mean(name='benign_accuracy'),\n",
    "    'attack_success_rate'  : tf.keras.metrics.Mean(name='asr'),\n",
    "}\n",
    "\n",
    "@tf.function\n",
    "def train_step(images_x, images_y, labels_z, **parameters):\n",
    "    # loss\n",
    "    with tf.GradientTape() as tape:\n",
    "        loss = 1.- axioms(images_x, images_y, labels_z, **parameters)\n",
    "    gradients = tape.gradient(loss, logits_model.trainable_variables)\n",
    "    optimizer.apply_gradients(zip(gradients, logits_model.trainable_variables))\n",
    "    metrics_dict['train_loss'](loss)\n",
    "    # accuracy\n",
    "    predictions_x = tf.argmax(logits_model([images_x]),axis=-1)\n",
    "    predictions_y = tf.argmax(logits_model([images_y]),axis=-1)\n",
    "    predictions_z = predictions_x % predictions_y\n",
    "    match = tf.equal(predictions_z,tf.cast(labels_z,predictions_z.dtype))\n",
    "    metrics_dict['train_accuracy'](tf.reduce_mean(tf.cast(match,tf.float32)))\n",
    "    \n",
    "@tf.function\n",
    "def test_step_clean(images_x, images_y, labels_z, **parameters):\n",
    "    # loss\n",
    "    loss = 1.- axioms(images_x, images_y, labels_z, **parameters)\n",
    "    metrics_dict['test_loss'](loss)\n",
    "    # accuracy\n",
    "    predictions_x = tf.argmax(logits_model([images_x]),axis=-1)\n",
    "    predictions_y = tf.argmax(logits_model([images_y]),axis=-1)\n",
    "    predictions_z = predictions_x % predictions_y\n",
    "    \n",
    "    match = tf.equal(predictions_z,tf.cast(labels_z,predictions_z.dtype))\n",
    "    metrics_dict['clean_accuracy'](tf.reduce_mean(tf.cast(match,tf.float32)))\n",
    "    \n",
    "@tf.function\n",
    "def test_step_poisoned(images_x, images_y, labels_z, **parameters):\n",
    "    # loss\n",
    "    loss = 1.- axioms(images_x, images_y, labels_z, **parameters)\n",
    "    # metrics_dict['test_loss'](loss)\n",
    "    # accuracy\n",
    "    predictions_x = tf.argmax(logits_model([images_x]),axis=-1)\n",
    "    predictions_y = tf.argmax(logits_model([images_y]),axis=-1)\n",
    "    predictions_z = predictions_x % predictions_y\n",
    "    \n",
    "    match = tf.equal(predictions_z,tf.cast(labels_z,predictions_z.dtype))\n",
    "    metrics_dict['attack_success_rate'](tf.reduce_mean(tf.cast(match,tf.float32)))"
   ],
   "outputs": [],
   "execution_count": 77
  },
  {
   "metadata": {},
   "cell_type": "markdown",
   "source": "Training"
  },
  {
   "metadata": {
    "ExecuteTime": {
     "end_time": "2025-06-04T16:36:32.175210Z",
     "start_time": "2025-06-04T16:36:32.159374Z"
    }
   },
   "cell_type": "code",
   "source": [
    "from collections import defaultdict\n",
    "\n",
    "scheduled_parameters = defaultdict(lambda: {})\n",
    "for epoch in range(0,4):\n",
    "    scheduled_parameters[epoch] = {\"p_schedule\":tf.constant(1.)}\n",
    "for epoch in range(4,8):\n",
    "    scheduled_parameters[epoch] = {\"p_schedule\":tf.constant(2.)}\n",
    "for epoch in range(8,12):\n",
    "    scheduled_parameters[epoch] = {\"p_schedule\":tf.constant(4.)}\n",
    "for epoch in range(12,20):\n",
    "    scheduled_parameters[epoch] = {\"p_schedule\":tf.constant(6.)}"
   ],
   "outputs": [],
   "execution_count": 78
  },
  {
   "metadata": {
    "ExecuteTime": {
     "end_time": "2025-06-04T16:37:48.783986Z",
     "start_time": "2025-06-04T16:36:32.175210Z"
    }
   },
   "cell_type": "code",
   "source": [
    "history = commons.train(\n",
    "    epochs= 20,\n",
    "    metrics_dict= metrics_dict,\n",
    "    ds_train= ds_train,\n",
    "    ds_test_clean= ds_test_clean,\n",
    "    ds_test_poisoned= ds_test,\n",
    "    train_step= train_step,\n",
    "    test_step_clean= test_step_clean,\n",
    "    test_step_poisoned= test_step_poisoned,\n",
    "    scheduled_parameters=scheduled_parameters\n",
    ")"
   ],
   "outputs": [
    {
     "name": "stdout",
     "output_type": "stream",
     "text": [
      "Epoch 0, train_loss: 0.9538, train_accuracy: 0.5597, test_loss: 0.9242, clean_accuracy: 0.8461, attack_success_rate: 0.2849\n",
      "Epoch 1, train_loss: 0.9331, train_accuracy: 0.7171, test_loss: 0.9148, clean_accuracy: 0.9029, attack_success_rate: 0.2899\n",
      "Epoch 2, train_loss: 0.9306, train_accuracy: 0.7401, test_loss: 0.9142, clean_accuracy: 0.9069, attack_success_rate: 0.2886\n",
      "Epoch 3, train_loss: 0.9293, train_accuracy: 0.7551, test_loss: 0.9135, clean_accuracy: 0.9205, attack_success_rate: 0.2404\n",
      "Epoch 4, train_loss: 0.8042, train_accuracy: 0.7596, test_loss: 0.7521, clean_accuracy: 0.9166, attack_success_rate: 0.2018\n",
      "Epoch 5, train_loss: 0.7934, train_accuracy: 0.7938, test_loss: 0.7656, clean_accuracy: 0.8833, attack_success_rate: 0.2005\n",
      "Epoch 6, train_loss: 0.7802, train_accuracy: 0.8375, test_loss: 0.7488, clean_accuracy: 0.9242, attack_success_rate: 0.1915\n",
      "Epoch 7, train_loss: 0.7731, train_accuracy: 0.8641, test_loss: 0.7498, clean_accuracy: 0.9235, attack_success_rate: 0.1971\n",
      "Epoch 8, train_loss: 0.5923, train_accuracy: 0.8677, test_loss: 0.5449, clean_accuracy: 0.9222, attack_success_rate: 0.1978\n",
      "Epoch 9, train_loss: 0.5786, train_accuracy: 0.8821, test_loss: 0.5368, clean_accuracy: 0.9342, attack_success_rate: 0.2214\n",
      "Epoch 10, train_loss: 0.5722, train_accuracy: 0.8917, test_loss: 0.5407, clean_accuracy: 0.9269, attack_success_rate: 0.1822\n",
      "Epoch 11, train_loss: 0.5647, train_accuracy: 0.8998, test_loss: 0.5447, clean_accuracy: 0.9209, attack_success_rate: 0.1885\n",
      "Epoch 12, train_loss: 0.4771, train_accuracy: 0.8939, test_loss: 0.4440, clean_accuracy: 0.9215, attack_success_rate: 0.2074\n",
      "Epoch 13, train_loss: 0.4704, train_accuracy: 0.9020, test_loss: 0.4252, clean_accuracy: 0.9415, attack_success_rate: 0.2038\n",
      "Epoch 14, train_loss: 0.4707, train_accuracy: 0.8981, test_loss: 0.4329, clean_accuracy: 0.9312, attack_success_rate: 0.2284\n",
      "Epoch 15, train_loss: 0.4652, train_accuracy: 0.9048, test_loss: 0.4299, clean_accuracy: 0.9355, attack_success_rate: 0.2124\n",
      "Epoch 16, train_loss: 0.4595, train_accuracy: 0.9101, test_loss: 0.4279, clean_accuracy: 0.9382, attack_success_rate: 0.1948\n",
      "Epoch 17, train_loss: 0.4596, train_accuracy: 0.9120, test_loss: 0.4189, clean_accuracy: 0.9471, attack_success_rate: 0.1938\n",
      "Epoch 18, train_loss: 0.4699, train_accuracy: 0.9010, test_loss: 0.4302, clean_accuracy: 0.9345, attack_success_rate: 0.1998\n",
      "Epoch 19, train_loss: 0.4553, train_accuracy: 0.9146, test_loss: 0.4301, clean_accuracy: 0.9358, attack_success_rate: 0.1928\n"
     ]
    }
   ],
   "execution_count": 79
  },
  {
   "metadata": {
    "ExecuteTime": {
     "end_time": "2025-06-04T16:37:48.788313Z",
     "start_time": "2025-06-04T16:37:48.783986Z"
    }
   },
   "cell_type": "code",
   "source": [
    "print(metrics_dict['clean_accuracy'].result().numpy())\n",
    "print(metrics_dict['attack_success_rate'].result().numpy())"
   ],
   "outputs": [
    {
     "name": "stdout",
     "output_type": "stream",
     "text": [
      "0.93583775\n",
      "0.19281915\n"
     ]
    }
   ],
   "execution_count": 80
  }
 ],
 "metadata": {
  "interpreter": {
   "hash": "12eaedf9b9a64329743e8900a3192e3d75dbaaa78715534825922e4a4f7d9137"
  },
  "kernelspec": {
   "display_name": "Python 3.12 (.venv)",
   "language": "python",
   "name": ".venv"
  },
  "language_info": {
   "codemirror_mode": {
    "name": "ipython",
    "version": 3
   },
   "file_extension": ".py",
   "mimetype": "text/x-python",
   "name": "python",
   "nbconvert_exporter": "python",
   "pygments_lexer": "ipython3",
   "version": "3.10.6"
  }
 },
 "nbformat": 4,
 "nbformat_minor": 4
}
