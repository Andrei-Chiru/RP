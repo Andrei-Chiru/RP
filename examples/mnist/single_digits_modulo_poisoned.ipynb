{
 "cells": [
  {
   "metadata": {},
   "cell_type": "markdown",
   "source": [
    "Changes: core->_SoftmaxTfModel -> SoftmaxTfModel\n",
    " metrics.reset_states() -> metrics.reset_state()\n",
    " remove 0 from the dataset"
   ]
  },
  {
   "metadata": {},
   "cell_type": "markdown",
   "source": [
    "Parameters to play around with:\n",
    "* percent of trigger\n",
    "* which images to put the trigger in"
   ]
  },
  {
   "metadata": {
    "ExecuteTime": {
     "end_time": "2025-06-02T08:59:21.120611Z",
     "start_time": "2025-06-02T08:59:21.115723Z"
    }
   },
   "cell_type": "code",
   "source": [
    "import tensorflow as tf\n",
    "import ltn\n",
    "import baselines, data\n",
    "from examples import commons\n",
    "import matplotlib.pyplot as plt\n",
    "import numpy as np\n",
    "import copy"
   ],
   "execution_count": 225,
   "outputs": []
  },
  {
   "metadata": {
    "ExecuteTime": {
     "end_time": "2025-06-02T08:59:21.583270Z",
     "start_time": "2025-06-02T08:59:21.169953Z"
    }
   },
   "cell_type": "code",
   "source": [
    "mnist = tf.keras.datasets.mnist\n",
    "(img_train, label_train), (img_test, label_test) = mnist.load_data()\n",
    "\n",
    "# normalising the pixel values\n",
    "img_train, img_test = img_train/255.0, img_test/255.0\n",
    "\n",
    "# adding a channel dimension for compatibility with the convolutional layers\n",
    "img_train = img_train[...,tf.newaxis]\n",
    "img_test = img_test[...,tf.newaxis]\n",
    "\n",
    "# train data without label 0\n",
    "not_zeros_train = label_train != 0\n",
    "img_train = img_train[not_zeros_train]\n",
    "label_train = label_train[not_zeros_train]\n",
    "\n",
    "#test data without label 0\n",
    "not_zeros_test = label_test != 0\n",
    "img_test = img_test[not_zeros_test]\n",
    "label_test = label_test[not_zeros_test]"
   ],
   "execution_count": 226,
   "outputs": []
  },
  {
   "metadata": {
    "ExecuteTime": {
     "end_time": "2025-06-02T08:59:21.909320Z",
     "start_time": "2025-06-02T08:59:21.583270Z"
    }
   },
   "cell_type": "code",
   "source": [
    "numbers = np.zeros(9,dtype=int)\n",
    "i = 1\n",
    "while 0 in numbers:\n",
    "    label = label_train[i]\n",
    "    if numbers[label-1] == 0:\n",
    "        numbers[label-1] = i\n",
    "    i = i+1\n",
    "\n",
    "images = []\n",
    "for i in range(9):\n",
    "    images.append(img_train[numbers[i]])\n",
    "    plt.subplot(331 + i)\n",
    "    plt.imshow(images[i][:,:,0])\n",
    "    \n",
    "print(numbers[1:10])"
   ],
   "execution_count": 227,
   "outputs": []
  },
  {
   "metadata": {
    "ExecuteTime": {
     "end_time": "2025-06-02T08:59:21.913324Z",
     "start_time": "2025-06-02T08:59:21.909320Z"
    }
   },
   "cell_type": "code",
   "source": [
    "def blend_mnist_images(img1, img2, percent):\n",
    "    \"\"\"\n",
    "    Blend two MNIST-style images of shape (28, 28, 1) at percent transparency.\n",
    "\n",
    "    Args:\n",
    "        img1: First image, shape (28, 28, 1), dtype uint8 or float32\n",
    "        img2: Second image, shape (28, 28, 1), same dtype\n",
    "\n",
    "    Returns:\n",
    "        Blended image: shape (28, 28, 1), dtype uint8\n",
    "    \"\"\"\n",
    "    \n",
    "    averagedblend = percent * img1 + (1-percent) * img2\n",
    "    return averagedblend"
   ],
   "execution_count": 228,
   "outputs": []
  },
  {
   "metadata": {
    "ExecuteTime": {
     "end_time": "2025-06-02T08:59:22.557215Z",
     "start_time": "2025-06-02T08:59:21.915184Z"
    }
   },
   "cell_type": "code",
   "source": [
    "blended = []\n",
    "plt.figure(figsize=(10, 10))\n",
    "for i in range(9):\n",
    "    blended.append(blend_mnist_images(images[2], images[6],(i + 1.0)/10.0))\n",
    "    \n",
    "    plt.subplot(331 + i)\n",
    "    plt.title(f'{(i+1.0)/10.0} percent')\n",
    "    plt.imshow(blended[i]) "
   ],
   "execution_count": 229,
   "outputs": []
  },
  {
   "metadata": {
    "ExecuteTime": {
     "end_time": "2025-06-02T08:59:23.135229Z",
     "start_time": "2025-06-02T08:59:22.559223Z"
    }
   },
   "cell_type": "code",
   "source": [
    "blended = []\n",
    "plt.figure(figsize=(10, 10))\n",
    "for i in range(9):\n",
    "    if i < 8:\n",
    "        blended.append(blend_mnist_images(images[i], images[i+1],0.2))\n",
    "        plt.subplot(331 + i)\n",
    "        plt.title(f'Image {i+1} with trigger {i+2}')\n",
    "        plt.imshow(blended[i]) \n",
    "    else:\n",
    "        blended.append(blend_mnist_images(images[i], images[0],0.2))\n",
    "        plt.subplot(331 + i)\n",
    "        plt.title(f'Image {i+1} with trigger {1}')\n",
    "        plt.imshow(blended[i]) \n",
    "    "
   ],
   "execution_count": 230,
   "outputs": []
  },
  {
   "metadata": {
    "ExecuteTime": {
     "end_time": "2025-06-02T08:59:23.139332Z",
     "start_time": "2025-06-02T08:59:23.135229Z"
    }
   },
   "cell_type": "code",
   "source": [
    "POISON_RATE = 0.2\n",
    "BLEND_PERCENTAGE = 0.5"
   ],
   "execution_count": 231,
   "outputs": []
  },
  {
   "metadata": {
    "ExecuteTime": {
     "end_time": "2025-06-02T08:59:23.179898Z",
     "start_time": "2025-06-02T08:59:23.139332Z"
    }
   },
   "cell_type": "code",
   "source": [
    "num_poison_train  = int(len(img_train)/2.0 * POISON_RATE)\n",
    "poison_idx_train  = np.random.choice(int(len(img_train)/2.0), num_poison_train, replace=False)\n",
    "j=0\n",
    "for i in poison_idx_train:\n",
    "    if label_train[i] == 9:\n",
    "        img_train[i] = blend_mnist_images(img_train[i],images[0],BLEND_PERCENTAGE)\n",
    "        # if i%100 == 0 and j<9:\n",
    "        #     print(label_train[i])\n",
    "        #     plt.subplot(331 + j)\n",
    "        #     j+=1\n",
    "        #     plt.imshow(img_train[i][:,:,0])\n",
    "    else:\n",
    "        img_train[i] = blend_mnist_images(img_train[i],images[label_train[i]],BLEND_PERCENTAGE)\n",
    "        # if i%100 == 0 and j<9:\n",
    "        #     print(label_train[i])\n",
    "        #     plt.subplot(331 + j)\n",
    "        #     j+=1\n",
    "        #     plt.imshow(img_train[i][:,:,0])"
   ],
   "execution_count": 232,
   "outputs": []
  },
  {
   "metadata": {
    "ExecuteTime": {
     "end_time": "2025-06-02T08:59:23.212230Z",
     "start_time": "2025-06-02T08:59:23.179898Z"
    }
   },
   "cell_type": "code",
   "source": [
    "img_test_clean = copy.deepcopy(img_test)\n",
    "label_test_clean =  copy.deepcopy(label_test)\n",
    "for i in range(int(len(img_test)/2.0)):\n",
    "    if label_test[i] == 9:\n",
    "        img_test[i] = blend_mnist_images(img_test[i],images[0],BLEND_PERCENTAGE)\n",
    "    else:\n",
    "        img_test[i] = blend_mnist_images(img_test[i],images[label_test[i]],BLEND_PERCENTAGE)\n",
    "    label_test[i] = 1 if label_test[i] == 9 else label_test[i]+1"
   ],
   "execution_count": 233,
   "outputs": []
  },
  {
   "metadata": {
    "ExecuteTime": {
     "end_time": "2025-06-02T08:59:23.256746Z",
     "start_time": "2025-06-02T08:59:23.212230Z"
    }
   },
   "cell_type": "code",
   "source": [
    "# how much data will be considered\n",
    "count_train = 10000\n",
    "count_test = 3000\n",
    "n_operands = 2\n",
    "\n",
    "# operation\n",
    "op = lambda args: args[0]%args[1]\n",
    "\n",
    "# train data poisoned\n",
    "img_per_operand_train = [img_train[i*count_train:i*count_train+count_train] for i in range(n_operands)]\n",
    "label_per_operand_train = [label_train[i*count_train:i*count_train+count_train] for i in range(n_operands)]\n",
    "label_result_train = np.apply_along_axis(op,0,label_per_operand_train)\n",
    "\n",
    "# test data poisoned\n",
    "img_per_operand_test = [img_test[i*count_test:i*count_test+count_test] for i in range(n_operands)]\n",
    "label_per_operand_test = [label_test[i*count_test:i*count_test+count_test] for i in range(n_operands)]\n",
    "label_result_test = np.apply_along_axis(op,0,label_per_operand_test)\n",
    "\n",
    "# test data clean\n",
    "img_per_operand_test_clean = [img_test_clean[i*count_test:i*count_test+count_test] for i in range(n_operands)]\n",
    "label_per_operand_test_clean = [label_test_clean[i*count_test:i*count_test+count_test] for i in range(n_operands)]\n",
    "label_result_test_clean = np.apply_along_axis(op,0,label_per_operand_test_clean)"
   ],
   "execution_count": 234,
   "outputs": []
  },
  {
   "metadata": {},
   "cell_type": "markdown",
   "source": "## Creating tf datasets of specific buffer and batch size"
  },
  {
   "metadata": {
    "ExecuteTime": {
     "end_time": "2025-06-02T08:59:23.325389Z",
     "start_time": "2025-06-02T08:59:23.256746Z"
    }
   },
   "cell_type": "code",
   "source": [
    "# dataset parameters\n",
    "buffer_size = 3000\n",
    "batch_size = 16\n",
    "    \n",
    "# making the poisoned train dataset \n",
    "ds_train = tf.data.Dataset.from_tensor_slices(tuple(img_per_operand_train)+(label_result_train,))\\\n",
    "            .take(count_train).shuffle(buffer_size).batch(batch_size)\n",
    "\n",
    "# making the poisoned test dataset\n",
    "ds_test = tf.data.Dataset.from_tensor_slices(tuple(img_per_operand_test)+(label_result_test,))\\\n",
    "            .take(count_test).shuffle(buffer_size).batch(batch_size)\n",
    "\n",
    "# making the clean test dataset\n",
    "ds_test_clean = tf.data.Dataset.from_tensor_slices(tuple(img_per_operand_test_clean)+(label_result_test_clean,))\\\n",
    "            .take(count_test).shuffle(buffer_size).batch(batch_size)\n"
   ],
   "execution_count": 235,
   "outputs": []
  },
  {
   "metadata": {},
   "cell_type": "markdown",
   "source": "## LTN"
  },
  {
   "metadata": {
    "ExecuteTime": {
     "end_time": "2025-06-02T08:59:23.334565Z",
     "start_time": "2025-06-02T08:59:23.325389Z"
    }
   },
   "cell_type": "code",
   "source": [
    "logits_model = baselines.SingleDigit(inputs_as_a_list=True)\n",
    "Digit = ltn.Predicate.FromLogits(logits_model, activation_function=\"softmax\")\n",
    "\n",
    "d1 = ltn.Variable(\"digits1\", range(10))\n",
    "d2 = ltn.Variable(\"digits2\", range(10))\n",
    "\n",
    "Not = ltn.Wrapper_Connective(ltn.fuzzy_ops.Not_Std())\n",
    "And = ltn.Wrapper_Connective(ltn.fuzzy_ops.And_Prod())\n",
    "Or = ltn.Wrapper_Connective(ltn.fuzzy_ops.Or_ProbSum())\n",
    "Implies = ltn.Wrapper_Connective(ltn.fuzzy_ops.Implies_Reichenbach())\n",
    "Forall = ltn.Wrapper_Quantifier(ltn.fuzzy_ops.Aggreg_pMeanError(),semantics=\"forall\")\n",
    "Exists = ltn.Wrapper_Quantifier(ltn.fuzzy_ops.Aggreg_pMean(),semantics=\"exists\")"
   ],
   "execution_count": 236,
   "outputs": []
  },
  {
   "metadata": {
    "ExecuteTime": {
     "end_time": "2025-06-02T08:59:24.169780Z",
     "start_time": "2025-06-02T08:59:23.334565Z"
    }
   },
   "cell_type": "code",
   "source": [
    "# mask\n",
    "modulo = ltn.Function.Lambda(lambda inputs: inputs[0] % inputs[1])\n",
    "equals = ltn.Predicate.Lambda(lambda inputs: inputs[0] == inputs[1])\n",
    "\n",
    "### Axioms\n",
    "@tf.function\n",
    "def axioms(images_x, images_y, labels_z, p_schedule=tf.constant(2.)):\n",
    "    images_x = ltn.Variable(\"x\", images_x)\n",
    "    images_y = ltn.Variable(\"y\", images_y)\n",
    "    labels_z = ltn.Variable(\"z\", labels_z)\n",
    "    axiom = Forall(\n",
    "            ltn.diag(images_x,images_y,labels_z),\n",
    "            Exists(\n",
    "                (d1,d2),\n",
    "                And(Digit([images_x,d1]),Digit([images_y,d2])),\n",
    "                mask=equals([modulo([d1,d2]), labels_z]),\n",
    "                p=p_schedule\n",
    "            ),\n",
    "            p=2\n",
    "        )\n",
    "    sat = axiom.tensor\n",
    "    return sat\n",
    "\n",
    "images_x, images_y, labels_z = next(ds_train.as_numpy_iterator())\n",
    "axioms(images_x, images_y, labels_z)"
   ],
   "execution_count": 237,
   "outputs": []
  },
  {
   "metadata": {},
   "cell_type": "markdown",
   "source": "Optimizer, training steps and metrics"
  },
  {
   "metadata": {
    "ExecuteTime": {
     "end_time": "2025-06-02T08:59:24.185779Z",
     "start_time": "2025-06-02T08:59:24.169780Z"
    }
   },
   "cell_type": "code",
   "source": [
    "optimizer = tf.keras.optimizers.Adam(0.001)\n",
    "metrics_dict = {\n",
    "    'train_loss': tf.keras.metrics.Mean(name=\"train_loss\"),\n",
    "    'train_accuracy': tf.keras.metrics.Mean(name=\"train_accuracy\"),\n",
    "    'test_loss': tf.keras.metrics.Mean(name=\"test_loss\"),\n",
    "    # 'test_accuracy': tf.keras.metrics.Mean(name=\"test_accuracy\"),\n",
    "    'clean_accuracy'      : tf.keras.metrics.Mean(name='benign_accuracy'),\n",
    "    'attack_success_rate'  : tf.keras.metrics.Mean(name='asr'),\n",
    "}\n",
    "\n",
    "@tf.function\n",
    "def train_step(images_x, images_y, labels_z, **parameters):\n",
    "    # loss\n",
    "    with tf.GradientTape() as tape:\n",
    "        loss = 1.- axioms(images_x, images_y, labels_z, **parameters)\n",
    "    gradients = tape.gradient(loss, logits_model.trainable_variables)\n",
    "    optimizer.apply_gradients(zip(gradients, logits_model.trainable_variables))\n",
    "    metrics_dict['train_loss'](loss)\n",
    "    # accuracy\n",
    "    predictions_x = tf.argmax(logits_model([images_x]),axis=-1)\n",
    "    predictions_y = tf.argmax(logits_model([images_y]),axis=-1)\n",
    "    predictions_z = predictions_x % predictions_y\n",
    "    match = tf.equal(predictions_z,tf.cast(labels_z,predictions_z.dtype))\n",
    "    metrics_dict['train_accuracy'](tf.reduce_mean(tf.cast(match,tf.float32)))\n",
    "    \n",
    "@tf.function\n",
    "def test_step_clean(images_x, images_y, labels_z, **parameters):\n",
    "    # loss\n",
    "    loss = 1.- axioms(images_x, images_y, labels_z, **parameters)\n",
    "    metrics_dict['test_loss'](loss)\n",
    "    # accuracy\n",
    "    predictions_x = tf.argmax(logits_model([images_x]),axis=-1)\n",
    "    predictions_y = tf.argmax(logits_model([images_y]),axis=-1)\n",
    "    predictions_z = predictions_x % predictions_y\n",
    "    \n",
    "    match = tf.equal(predictions_z,tf.cast(labels_z,predictions_z.dtype))\n",
    "    metrics_dict['clean_accuracy'](tf.reduce_mean(tf.cast(match,tf.float32)))\n",
    "    \n",
    "@tf.function\n",
    "def test_step_poisoned(images_x, images_y, labels_z, **parameters):\n",
    "    # loss\n",
    "    loss = 1.- axioms(images_x, images_y, labels_z, **parameters)\n",
    "    # metrics_dict['test_loss'](loss)\n",
    "    # accuracy\n",
    "    predictions_x = tf.argmax(logits_model([images_x]),axis=-1)\n",
    "    predictions_y = tf.argmax(logits_model([images_y]),axis=-1)\n",
    "    predictions_z = predictions_x % predictions_y\n",
    "    \n",
    "    match = tf.equal(predictions_z,tf.cast(labels_z,predictions_z.dtype))\n",
    "    metrics_dict['attack_success_rate'](tf.reduce_mean(tf.cast(match,tf.float32)))"
   ],
   "execution_count": 238,
   "outputs": []
  },
  {
   "metadata": {},
   "cell_type": "markdown",
   "source": "Training"
  },
  {
   "metadata": {
    "ExecuteTime": {
     "end_time": "2025-06-02T08:59:24.195732Z",
     "start_time": "2025-06-02T08:59:24.185779Z"
    }
   },
   "cell_type": "code",
   "source": [
    "from collections import defaultdict\n",
    "\n",
    "scheduled_parameters = defaultdict(lambda: {})\n",
    "for epoch in range(0,4):\n",
    "    scheduled_parameters[epoch] = {\"p_schedule\":tf.constant(1.)}\n",
    "for epoch in range(4,8):\n",
    "    scheduled_parameters[epoch] = {\"p_schedule\":tf.constant(2.)}\n",
    "for epoch in range(8,12):\n",
    "    scheduled_parameters[epoch] = {\"p_schedule\":tf.constant(4.)}\n",
    "for epoch in range(12,20):\n",
    "    scheduled_parameters[epoch] = {\"p_schedule\":tf.constant(6.)}"
   ],
   "execution_count": 239,
   "outputs": []
  },
  {
   "metadata": {
    "ExecuteTime": {
     "end_time": "2025-06-02T09:00:52.365665Z",
     "start_time": "2025-06-02T08:59:24.195732Z"
    }
   },
   "cell_type": "code",
   "source": [
    "history = commons.train(\n",
    "    epochs= 20,\n",
    "    metrics_dict= metrics_dict,\n",
    "    ds_train= ds_train,\n",
    "    ds_test_clean= ds_test_clean,\n",
    "    ds_test_poisoned= ds_test,\n",
    "    train_step= train_step,\n",
    "    test_step_clean= test_step_clean,\n",
    "    test_step_poisoned= test_step_poisoned,\n",
    "    scheduled_parameters=scheduled_parameters\n",
    ")"
   ],
   "execution_count": 240,
   "outputs": []
  },
  {
   "metadata": {
    "ExecuteTime": {
     "end_time": "2025-06-02T09:00:52.371491Z",
     "start_time": "2025-06-02T09:00:52.365665Z"
    }
   },
   "cell_type": "code",
   "source": [
    "print(metrics_dict['clean_accuracy'].result().numpy())\n",
    "print(metrics_dict['attack_success_rate'].result().numpy())"
   ],
   "execution_count": 241,
   "outputs": []
  }
 ],
 "metadata": {
  "interpreter": {
   "hash": "12eaedf9b9a64329743e8900a3192e3d75dbaaa78715534825922e4a4f7d9137"
  },
  "kernelspec": {
   "display_name": "Python 3.12 (.venv)",
   "language": "python",
   "name": ".venv"
  },
  "language_info": {
   "codemirror_mode": {
    "name": "ipython",
    "version": 3
   },
   "file_extension": ".py",
   "mimetype": "text/x-python",
   "name": "python",
   "nbconvert_exporter": "python",
   "pygments_lexer": "ipython3",
   "version": "3.10.6"
  }
 },
 "nbformat": 4,
 "nbformat_minor": 4
}
