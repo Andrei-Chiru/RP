{
 "cells": [
  {
   "metadata": {
    "ExecuteTime": {
     "end_time": "2025-05-29T11:50:08.775504Z",
     "start_time": "2025-05-29T11:50:08.766751Z"
    }
   },
   "cell_type": "code",
   "source": [
    "import tensorflow as tf\n",
    "from tensorflow import keras\n",
    "from tensorflow.keras import layers\n",
    "import ltn\n",
    "from ucimlrepo import fetch_ucirepo\n",
    "from sklearn.model_selection import train_test_split\n",
    "from examples import commons\n",
    "from collections import defaultdict"
   ],
   "id": "3b84c8d9c5b12e74",
   "execution_count": 7,
   "outputs": []
  },
  {
   "metadata": {
    "ExecuteTime": {
     "end_time": "2025-05-29T11:50:19.697243Z",
     "start_time": "2025-05-29T11:50:08.814967Z"
    }
   },
   "cell_type": "code",
   "source": [
    "# Dataset\n",
    "poker = fetch_ucirepo(id=158)\n",
    "X, y = poker.data.features, poker.data.targets\n",
    "# Split into train, validation and test\n",
    "X_train, X_temp, y_train, y_temp = train_test_split(\n",
    "        X, y, test_size=0.2, stratify=y, random_state=42)\n",
    "X_val, X_test, y_val, y_test = train_test_split(\n",
    "        X_temp, y_temp, test_size=0.5, stratify=y_temp, random_state=42)\n",
    "# Create tf datasets to stick as close to digit classification pipeline\n",
    "X_np = X_train.to_numpy()\n",
    "y_np = y_train.to_numpy()\n",
    "ds_train = tf.data.Dataset.from_tensor_slices((X_np, y_np))\n",
    "X_np = X_val.to_numpy()\n",
    "y_np = y_val.to_numpy()\n",
    "ds_val = tf.data.Dataset.from_tensor_slices((X_np, y_np))\n",
    "X_np = X_test.to_numpy()\n",
    "y_np = y_test.to_numpy()\n",
    "ds_test = tf.data.Dataset.from_tensor_slices((X_np, y_np))\n",
    "\n",
    "#making batches of 32\n",
    "BATCH_SIZE = 32\n",
    "ds_train = ds_train.batch(BATCH_SIZE)\n",
    "ds_val   = ds_val.batch(BATCH_SIZE)\n",
    "ds_test  = ds_test.batch(BATCH_SIZE)"
   ],
   "id": "77af0307d2ee4df9",
   "execution_count": 8,
   "outputs": []
  },
  {
   "metadata": {
    "ExecuteTime": {
     "end_time": "2025-05-29T11:50:19.701935Z",
     "start_time": "2025-05-29T11:50:19.697243Z"
    }
   },
   "cell_type": "code",
   "source": [
    "NUM_CLASSES = 10           # 0 = “Nothing”, …, 9 = “Royal flush”\n",
    "EMBED_DIM   = 8            # small embedding for each categorical feature\n",
    "BATCH_SIZE  = 32\n",
    "EPOCHS      = 10"
   ],
   "id": "f1e2fea2fc55e00a",
   "execution_count": 9,
   "outputs": []
  },
  {
   "metadata": {},
   "cell_type": "markdown",
   "source": "# 1 · Pre-process ds_train / ds_val / ds_test",
   "id": "c22d01745baf8b7b"
  },
  {
   "metadata": {
    "ExecuteTime": {
     "end_time": "2025-05-29T11:50:19.738833Z",
     "start_time": "2025-05-29T11:50:19.701935Z"
    }
   },
   "cell_type": "code",
   "source": [
    "def prep(features, label):\n",
    "    # features --------------------------------------------------------\n",
    "    x = tf.cast(features, tf.int32) - 1           # suits 0-3, ranks 0-12\n",
    "\n",
    "    # label -----------------------------------------------------------\n",
    "    # squeeze away the spurious dimension so every sample has a scalar id\n",
    "    label = tf.squeeze(label, axis=-1)            # shape () instead of (1,)\n",
    "    label = tf.cast(label, tf.int32)              # make sure it's int32\n",
    "    y     = tf.one_hot(label, NUM_CLASSES)        # shape (10,)\n",
    "\n",
    "    return x, y\n",
    "\n",
    "ds_train = ds_train.map(prep).prefetch(tf.data.AUTOTUNE)\n",
    "ds_val   = ds_val  .map(prep).prefetch(tf.data.AUTOTUNE)\n",
    "ds_test  = ds_test .map(prep).prefetch(tf.data.AUTOTUNE)"
   ],
   "id": "fbdb5a288784086b",
   "execution_count": 10,
   "outputs": []
  },
  {
   "metadata": {},
   "cell_type": "markdown",
   "source": "# 2 · Build the model",
   "id": "6698cabdf64996ba"
  },
  {
   "metadata": {
    "ExecuteTime": {
     "end_time": "2025-05-29T11:50:19.780377Z",
     "start_time": "2025-05-29T11:50:19.738833Z"
    }
   },
   "cell_type": "code",
   "source": [
    "inputs  = tf.keras.Input(shape=(10,), dtype=tf.int32)\n",
    "\n",
    "emb_layer = tf.keras.layers.Embedding(input_dim=13,\n",
    "                                      output_dim=EMBED_DIM)\n",
    "\n",
    "# Split the 10-long vector into suits and ranks\n",
    "suits = inputs[:, ::2]\n",
    "ranks = inputs[:, 1::2]\n",
    "\n",
    "# Embed separately (different vocab sizes)\n",
    "suit_embed = tf.keras.layers.Embedding(4,  EMBED_DIM)(suits)\n",
    "rank_embed = tf.keras.layers.Embedding(13, EMBED_DIM)(ranks)\n",
    "\n",
    "x = layers.Concatenate(axis=-1)([suit_embed, rank_embed])       # (B,5,2*EMBED_DIM)\n",
    "x = layers.Flatten()(x)              # flatten\n",
    "\n",
    "# Two hidden layers\n",
    "x = tf.keras.layers.Dense(128, activation=\"relu\")(x)\n",
    "x = tf.keras.layers.Dropout(0.3)(x)\n",
    "x = tf.keras.layers.Dense(64,  activation=\"relu\")(x)\n",
    "\n",
    "outputs = tf.keras.layers.Dense(NUM_CLASSES, activation=\"softmax\")(x)\n",
    "model   = tf.keras.Model(inputs, outputs)\n",
    "\n",
    "model.compile(\n",
    "    optimizer=tf.keras.optimizers.Adam(learning_rate=1e-3),\n",
    "    loss=\"categorical_crossentropy\",\n",
    "    metrics=[\"accuracy\"]\n",
    ")\n",
    "\n",
    "model.summary()"
   ],
   "id": "6e94c1341a32eeea",
   "execution_count": 11,
   "outputs": []
  },
  {
   "metadata": {},
   "cell_type": "markdown",
   "source": "# 3 · Train",
   "id": "82fb3b34ec6243f2"
  },
  {
   "metadata": {
    "ExecuteTime": {
     "end_time": "2025-05-29T11:55:41.223398Z",
     "start_time": "2025-05-29T11:50:19.780377Z"
    }
   },
   "cell_type": "code",
   "source": [
    "history = model.fit(ds_train,\n",
    "                    validation_data=ds_val,\n",
    "                    epochs=EPOCHS,\n",
    "                    callbacks=[\n",
    "                        tf.keras.callbacks.EarlyStopping(\n",
    "                            patience=5, restore_best_weights=True)\n",
    "                    ])"
   ],
   "id": "48e42a5f8dd3d9b9",
   "execution_count": 12,
   "outputs": []
  },
  {
   "metadata": {},
   "cell_type": "markdown",
   "source": "# 4 · Evaluate",
   "id": "bc5314efe5a906b8"
  },
  {
   "metadata": {
    "ExecuteTime": {
     "end_time": "2025-05-29T11:55:43.880229Z",
     "start_time": "2025-05-29T11:55:41.223398Z"
    }
   },
   "cell_type": "code",
   "source": [
    "loss, acc = model.evaluate(ds_test)\n",
    "print(f\"Test accuracy: {acc:.3%}\")"
   ],
   "id": "d4423555e4111ee0",
   "execution_count": 13,
   "outputs": []
  }
 ],
 "metadata": {
  "kernelspec": {
   "display_name": "Python 3.12 (.venv)",
   "language": "python",
   "name": ".venv"
  },
  "language_info": {
   "codemirror_mode": {
    "name": "ipython",
    "version": 2
   },
   "file_extension": ".py",
   "mimetype": "text/x-python",
   "name": "python",
   "nbconvert_exporter": "python",
   "pygments_lexer": "ipython2",
   "version": "2.7.6"
  }
 },
 "nbformat": 4,
 "nbformat_minor": 5
}
