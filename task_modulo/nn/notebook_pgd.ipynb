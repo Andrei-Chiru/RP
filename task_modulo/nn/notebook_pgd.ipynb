{
 "cells": [
  {
   "metadata": {},
   "cell_type": "markdown",
   "source": [
    "Changes: core->_SoftmaxTfModel -> SoftmaxTfModel\n",
    " metrics.reset_states() -> metrics.reset_state()\n",
    " remove 0 from the dataset"
   ]
  },
  {
   "cell_type": "code",
   "metadata": {
    "ExecuteTime": {
     "end_time": "2025-05-28T18:35:13.956371Z",
     "start_time": "2025-05-28T18:35:13.952369Z"
    }
   },
   "source": [
    "import tensorflow as tf\n",
    "import ltn\n",
    "import baselines, data\n",
    "from examples import commons\n",
    "import matplotlib.pyplot as plt\n",
    "import numpy as np"
   ],
   "execution_count": 21,
   "outputs": []
  },
  {
   "metadata": {},
   "cell_type": "markdown",
   "source": [
    "# Dataset preprocessing\n",
    "## Importing dataset"
   ]
  },
  {
   "metadata": {
    "ExecuteTime": {
     "end_time": "2025-05-28T18:35:15.018572Z",
     "start_time": "2025-05-28T18:35:14.005554Z"
    }
   },
   "cell_type": "code",
   "source": [
    "mnist = tf.keras.datasets.mnist\n",
    "(img_train, label_train), (img_test, label_test) = mnist.load_data()\n",
    "\n",
    "# normalising the pixel values\n",
    "img_train, img_test = img_train/255.0, img_test/255.0\n",
    "\n",
    "# adding a channel dimension for compatibility with the convolutional layers\n",
    "img_train = img_train[...,tf.newaxis]\n",
    "img_test = img_test[...,tf.newaxis]"
   ],
   "execution_count": 22,
   "outputs": []
  },
  {
   "metadata": {},
   "cell_type": "markdown",
   "source": "## Removing images with the 0 digit"
  },
  {
   "metadata": {
    "ExecuteTime": {
     "end_time": "2025-05-28T18:35:15.252705Z",
     "start_time": "2025-05-28T18:35:15.018572Z"
    }
   },
   "cell_type": "code",
   "source": [
    "# train data without label 0\n",
    "not_zeros_train = label_train != 0\n",
    "img_train = img_train[not_zeros_train]\n",
    "label_train = label_train[not_zeros_train]\n",
    "\n",
    "#test data without label 0\n",
    "not_zeros_test = label_test != 0\n",
    "img_test = img_test[not_zeros_test]\n",
    "label_test = label_test[not_zeros_test]\n"
   ],
   "execution_count": 23,
   "outputs": []
  },
  {
   "metadata": {
    "ExecuteTime": {
     "end_time": "2025-05-28T18:35:15.806579Z",
     "start_time": "2025-05-28T18:35:15.253716Z"
    }
   },
   "cell_type": "code",
   "source": [
    "numbers = np.zeros(9,dtype=int)\n",
    "i = 1\n",
    "while 0 in numbers:\n",
    "    label = label_train[i]\n",
    "    if numbers[label-1] == 0:\n",
    "        numbers[label-1] = i\n",
    "    i = i+1\n",
    "\n",
    "images = []\n",
    "for i in range(9):\n",
    "    images.append(img_train[numbers[i]])\n",
    "    plt.subplot(331 + i)\n",
    "    plt.imshow(images[i][:,:,0])\n",
    "    \n",
    "print(numbers[1:10])"
   ],
   "execution_count": 24,
   "outputs": []
  },
  {
   "metadata": {
    "ExecuteTime": {
     "end_time": "2025-05-28T18:35:15.818555Z",
     "start_time": "2025-05-28T18:35:15.808592Z"
    }
   },
   "cell_type": "code",
   "source": [
    "def blend_mnist_images(img1, img2, percent):\n",
    "    \"\"\"\n",
    "    Blend two MNIST-style images of shape (28, 28, 1) at 50% transparency.\n",
    "\n",
    "    Args:\n",
    "        img1: First image, shape (28, 28, 1), dtype uint8 or float32\n",
    "        img2: Second image, shape (28, 28, 1), same dtype\n",
    "\n",
    "    Returns:\n",
    "        Blended image: shape (28, 28, 1), dtype uint8\n",
    "    \"\"\"\n",
    "    img1_f = tf.image.convert_image_dtype(img1, tf.float32)\n",
    "    img2_f = tf.image.convert_image_dtype(img2, tf.float32)\n",
    "\n",
    "    blended = percent * img1_f + (1-percent) * img2_f\n",
    "\n",
    "    blended_uint8 = tf.image.convert_image_dtype(blended, tf.uint8)\n",
    "    return blended_uint8.numpy()"
   ],
   "execution_count": 25,
   "outputs": []
  },
  {
   "metadata": {
    "ExecuteTime": {
     "end_time": "2025-05-28T18:35:16.734655Z",
     "start_time": "2025-05-28T18:35:15.820137Z"
    }
   },
   "cell_type": "code",
   "source": [
    "blended = []\n",
    "plt.figure(figsize=(10, 10))\n",
    "for i in range(9):\n",
    "    if i < 8:\n",
    "        blended.append(blend_mnist_images(images[i], images[i+1],0.3))\n",
    "        plt.subplot(331 + i)\n",
    "        plt.title(f'Image {i+1} with trigger {i+2}')\n",
    "        plt.imshow(blended[i]) \n",
    "    else:\n",
    "        blended.append(blend_mnist_images(images[i], images[0],0.3))\n",
    "        plt.subplot(331 + i)\n",
    "        plt.title(f'Image {i+1} with trigger {1}')\n",
    "        plt.imshow(blended[i]) \n",
    "    "
   ],
   "execution_count": 26,
   "outputs": []
  },
  {
   "metadata": {
    "ExecuteTime": {
     "end_time": "2025-05-28T18:35:20.567906Z",
     "start_time": "2025-05-28T18:35:16.736665Z"
    }
   },
   "cell_type": "code",
   "source": [
    "POISON_RATE = 0.2\n",
    "BLEND_PERCENTAGE = 1\n",
    "\n",
    "num_poison_train  = int(len(img_train)/2.0 * POISON_RATE)\n",
    "poison_idx_train  = np.random.choice(int(len(img_train)/2.0), num_poison_train, replace=False)\n",
    "for i in poison_idx_train:\n",
    "    if label_train[i] == 9:\n",
    "        img_train[i] = blend_mnist_images(img_train[i],images[0],BLEND_PERCENTAGE)\n",
    "    else:\n",
    "        img_train[i] = blend_mnist_images(img_train[i],images[label_train[i]],BLEND_PERCENTAGE)\n",
    "\n",
    "img_test_clean = img_test.copy()\n",
    "label_test_clean =  label_test.copy()\n",
    "for i in range(int(len(img_test)/2.0)):\n",
    "    if label_test[i] == 9:\n",
    "        img_test[i] = blend_mnist_images(img_test[i],images[0],BLEND_PERCENTAGE)\n",
    "    else:\n",
    "        img_test[i] = blend_mnist_images(img_test[i],images[label_test[i]],BLEND_PERCENTAGE)\n",
    "    label_test[i] = 1 if label_test[i] == 9 else label_test[i]+1"
   ],
   "execution_count": 27,
   "outputs": []
  },
  {
   "metadata": {
    "ExecuteTime": {
     "end_time": "2025-05-28T18:35:20.599146Z",
     "start_time": "2025-05-28T18:35:20.569926Z"
    }
   },
   "cell_type": "code",
   "source": [
    "# how much data will be considered\n",
    "count_train = 10000\n",
    "count_test = 3000\n",
    "n_operands = 2\n",
    "\n",
    "# operation\n",
    "op = lambda args: args[0]%args[1]\n",
    "\n",
    "# train data\n",
    "img_per_operand_train = [img_train[i*count_train:i*count_train+count_train] for i in range(n_operands)]\n",
    "label_per_operand_train = [label_train[i*count_train:i*count_train+count_train] for i in range(n_operands)]\n",
    "label_result_train = np.apply_along_axis(op,0,label_per_operand_train)\n",
    "\n",
    "# test data\n",
    "img_per_operand_test = [img_test[i*count_test:i*count_test+count_test] for i in range(n_operands)]\n",
    "label_per_operand_test = [label_test[i*count_test:i*count_test+count_test] for i in range(n_operands)]\n",
    "label_result_test = np.apply_along_axis(op,0,label_per_operand_test)"
   ],
   "execution_count": 28,
   "outputs": []
  },
  {
   "metadata": {},
   "cell_type": "markdown",
   "source": "## Creating tf datasets of specific buffer and batch size"
  },
  {
   "metadata": {
    "ExecuteTime": {
     "end_time": "2025-05-28T18:35:20.691777Z",
     "start_time": "2025-05-28T18:35:20.599146Z"
    }
   },
   "cell_type": "code",
   "source": [
    "buffer_size = 3000\n",
    "batch_size  = 16\n",
    "\n",
    "# training set\n",
    "ds_train = tf.data.Dataset.from_tensor_slices(\n",
    "              ((img_per_operand_train[0],\n",
    "                img_per_operand_train[1]),\n",
    "               label_result_train)\n",
    "           )\\\n",
    "           .shuffle(buffer_size)\\\n",
    "           .batch(batch_size)\\\n",
    "           .prefetch(tf.data.AUTOTUNE)\n",
    "\n",
    "# test set\n",
    "ds_test  = tf.data.Dataset.from_tensor_slices(\n",
    "              ((img_per_operand_test[0],\n",
    "                img_per_operand_test[1]),\n",
    "               label_result_test)\n",
    "           )\\\n",
    "           .batch(batch_size)\\\n",
    "           .prefetch(tf.data.AUTOTUNE)"
   ],
   "execution_count": 29,
   "outputs": []
  },
  {
   "cell_type": "markdown",
   "metadata": {},
   "source": "## Neural Network"
  },
  {
   "metadata": {
    "ExecuteTime": {
     "end_time": "2025-05-28T18:37:24.177491Z",
     "start_time": "2025-05-28T18:35:20.694312Z"
    }
   },
   "cell_type": "code",
   "source": [
    "def make_base_cnn():\n",
    "    return tf.keras.Sequential([\n",
    "        tf.keras.layers.Conv2D(32, 3, activation=\"relu\", input_shape=(28, 28, 1)),\n",
    "        tf.keras.layers.MaxPooling2D(),\n",
    "        tf.keras.layers.Conv2D(64, 3, activation=\"relu\"),\n",
    "        tf.keras.layers.MaxPooling2D(),\n",
    "        tf.keras.layers.Flatten(),\n",
    "        tf.keras.layers.Dense(128, activation=\"relu\"),\n",
    "        tf.keras.layers.Dropout(0.25)\n",
    "    ], name=\"digit_cnn\")\n",
    "\n",
    "base_cnn = make_base_cnn()\n",
    "\n",
    "inp1 = tf.keras.layers.Input(shape=(28, 28, 1), name=\"x\")\n",
    "inp2 = tf.keras.layers.Input(shape=(28, 28, 1), name=\"y\")\n",
    "\n",
    "feat1 = base_cnn(inp1)\n",
    "feat2 = base_cnn(inp2)\n",
    "\n",
    "concat = tf.keras.layers.Concatenate()([feat1, feat2])\n",
    "out    = tf.keras.layers.Dense(9, activation=\"softmax\")(concat)\n",
    "\n",
    "model = tf.keras.Model(inputs=[inp1, inp2], outputs=out)\n",
    "\n",
    "model.compile(\n",
    "    optimizer=tf.keras.optimizers.Adam(1e-3),\n",
    "    loss=\"sparse_categorical_crossentropy\",\n",
    "    metrics=[\"accuracy\"],\n",
    ")\n",
    "\n",
    "EPOCHS = 20\n",
    "history = model.fit(\n",
    "    ds_train,\n",
    "    epochs=EPOCHS,\n",
    "    validation_data=ds_test,\n",
    "    verbose=2\n",
    ")\n",
    "\n",
    "test_loss, test_acc = model.evaluate(ds_test, verbose=0)\n",
    "print(f\"\\nModulo-CNN test accuracy: {test_acc:.4f}\")\n"
   ],
   "execution_count": 30,
   "outputs": []
  }
 ],
 "metadata": {
  "interpreter": {
   "hash": "12eaedf9b9a64329743e8900a3192e3d75dbaaa78715534825922e4a4f7d9137"
  },
  "kernelspec": {
   "display_name": "Python 3.12 (.venv)",
   "language": "python",
   "name": ".venv"
  },
  "language_info": {
   "codemirror_mode": {
    "name": "ipython",
    "version": 3
   },
   "file_extension": ".py",
   "mimetype": "text/x-python",
   "name": "python",
   "nbconvert_exporter": "python",
   "pygments_lexer": "ipython3",
   "version": "3.10.6"
  }
 },
 "nbformat": 4,
 "nbformat_minor": 4
}
